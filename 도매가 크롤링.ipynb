{
 "cells": [
  {
   "cell_type": "code",
   "execution_count": 1,
   "metadata": {},
   "outputs": [
    {
     "name": "stderr",
     "output_type": "stream",
     "text": [
      "C:\\ProgramData\\Anaconda3\\lib\\site-packages\\ipykernel_launcher.py:10: DeprecationWarning: use options instead of chrome_options\n",
      "  # Remove the CWD from sys.path while we load stuff.\n"
     ]
    }
   ],
   "source": [
    "from selenium import webdriver\n",
    "from selenium.webdriver.common.keys import Keys\n",
    "from selenium.webdriver import ActionChains\n",
    "from time import time, sleep\n",
    "from openpyxl import load_workbook,Workbook\n",
    "options = webdriver.ChromeOptions()\n",
    "options.add_argument('headless')\n",
    "options.add_argument(\"user-agent=Mozilla/5.0 (Macintosh; Intel Mac OS X 10_12_6) AppleWebKit/537.36 (KHTML, like Gecko) Chrome/61.0.3163.100 Safari/537.36\")\n",
    "url = \"https://www.meatbox.co.kr/fo/sise/siseListPage.do\"\n",
    "driver = webdriver.Chrome('./chromedriver', chrome_options=options)\n",
    "driver.get(url)\n",
    "driver.implicitly_wait(2)\n",
    "table = []\n",
    "table.append([\"상품명\",\"원산지\",\"브랜드\",\"등급\",\"보관\",\"kg/원\"])\n",
    "names = []\n",
    "origins = []\n",
    "brands = []\n",
    "grades = []\n",
    "keepings = []\n",
    "prices = []\n",
    "try:\n",
    "    for i in range(1,15):\n",
    "        elem = driver.find_element_by_xpath('//*[@id=\"sise_general\"]')\n",
    "        divs = elem.find_element_by_class_name('sise_td')\n",
    "        tbody = divs.find_element_by_tag_name('tbody')\n",
    "        trs = tbody.find_elements_by_tag_name('tr')\n",
    "        for tr in trs:\n",
    "            name=tr.find_element_by_class_name('prd_name')\n",
    "            grade = tr.find_element_by_id('prd_grade')\n",
    "            keeping = tr.find_element_by_id('prd_keeping')\n",
    "            price = tr.find_element_by_class_name('much')\n",
    "            price_txt = price.text.split('원')[0].replace(',','')\n",
    "            txt = name.text\n",
    "            divided = txt.split('-')\n",
    "            names.append(divided[0])\n",
    "            divided2 = divided[1].split('|')\n",
    "            origins.append(divided2[0])\n",
    "            brands.append(divided2[1])\n",
    "            grades.append(grade.text)\n",
    "            keepings.append(keeping.text)\n",
    "            prices.append(price_txt)\n",
    "            for nam, ori, brd, gra, kep, pri in zip(names,origins,brands,grades,keepings,prices):\n",
    "                if [nam, ori, brd, gra, kep, pri] not in table:\n",
    "                    table.append([nam, ori, brd, gra, kep, pri])\n",
    "        pages = driver.find_element_by_class_name('pasing')\n",
    "        tag = pages.find_element_by_class_name('on')\n",
    "        ac = ActionChains(driver)\n",
    "        ac.move_to_element(tag)\n",
    "        ac.click()\n",
    "        ac.reset_actions()\n",
    "        ac.move_by_offset(50,0)\n",
    "        ac.click()\n",
    "        ac.perform()\n",
    "        sleep(1)\n",
    "        i=i+1\n",
    "    wb = Workbook('미트박스 시세표.csv')\n",
    "    ws = wb.create_sheet('시세표')\n",
    "    for a in table:\n",
    "        ws.append(a)\n",
    "    wb.save('미트박스 시세표.csv')\n",
    "except Exception as e:\n",
    "    print(e)\n",
    "finally:\n",
    "    driver.quit()"
   ]
  }
 ],
 "metadata": {
  "kernelspec": {
   "display_name": "Python 3",
   "language": "python",
   "name": "python3"
  },
  "language_info": {
   "codemirror_mode": {
    "name": "ipython",
    "version": 3
   },
   "file_extension": ".py",
   "mimetype": "text/x-python",
   "name": "python",
   "nbconvert_exporter": "python",
   "pygments_lexer": "ipython3",
   "version": "3.7.6"
  }
 },
 "nbformat": 4,
 "nbformat_minor": 4
}
